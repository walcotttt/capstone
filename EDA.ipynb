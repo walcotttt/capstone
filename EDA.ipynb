{
 "cells": [
  {
   "cell_type": "code",
   "execution_count": 1,
   "metadata": {},
   "outputs": [],
   "source": [
    "# import modules\n",
    "\n",
    "import pandas as pd\n",
    "import numpy as np\n",
    "\n",
    "import matplotlib.pyplot as plt\n",
    "import seaborn as sns"
   ]
  },
  {
   "cell_type": "code",
   "execution_count": 2,
   "metadata": {},
   "outputs": [],
   "source": [
    "# load dataset\n",
    "df = pd.read_csv('gamelogs_df.csv')"
   ]
  },
  {
   "cell_type": "markdown",
   "metadata": {},
   "source": [
    "### Gathering Info on Scraped Data"
   ]
  },
  {
   "cell_type": "code",
   "execution_count": 5,
   "metadata": {},
   "outputs": [
    {
     "data": {
      "text/plain": [
       "(1610, 31)"
      ]
     },
     "execution_count": 5,
     "metadata": {},
     "output_type": "execute_result"
    }
   ],
   "source": [
    "# check rows and columns\n",
    "df.shape"
   ]
  },
  {
   "cell_type": "code",
   "execution_count": 6,
   "metadata": {},
   "outputs": [
    {
     "data": {
      "text/html": [
       "<div>\n",
       "<style scoped>\n",
       "    .dataframe tbody tr th:only-of-type {\n",
       "        vertical-align: middle;\n",
       "    }\n",
       "\n",
       "    .dataframe tbody tr th {\n",
       "        vertical-align: top;\n",
       "    }\n",
       "\n",
       "    .dataframe thead th {\n",
       "        text-align: right;\n",
       "    }\n",
       "</style>\n",
       "<table border=\"1\" class=\"dataframe\">\n",
       "  <thead>\n",
       "    <tr style=\"text-align: right;\">\n",
       "      <th></th>\n",
       "      <th>Unnamed: 0</th>\n",
       "      <th>Rk</th>\n",
       "      <th>G</th>\n",
       "      <th>Date</th>\n",
       "      <th>Age</th>\n",
       "      <th>Tm</th>\n",
       "      <th>Unnamed: 5</th>\n",
       "      <th>Opp</th>\n",
       "      <th>Unnamed: 7</th>\n",
       "      <th>GS</th>\n",
       "      <th>...</th>\n",
       "      <th>DRB</th>\n",
       "      <th>TRB</th>\n",
       "      <th>AST</th>\n",
       "      <th>STL</th>\n",
       "      <th>BLK</th>\n",
       "      <th>TOV</th>\n",
       "      <th>PF</th>\n",
       "      <th>PTS</th>\n",
       "      <th>GmSc</th>\n",
       "      <th>+/-</th>\n",
       "    </tr>\n",
       "  </thead>\n",
       "  <tbody>\n",
       "    <tr>\n",
       "      <th>0</th>\n",
       "      <td>0</td>\n",
       "      <td>1</td>\n",
       "      <td>NaN</td>\n",
       "      <td>2023-10-25</td>\n",
       "      <td>23-352</td>\n",
       "      <td>BOS</td>\n",
       "      <td>@</td>\n",
       "      <td>NYK</td>\n",
       "      <td>W (+4)</td>\n",
       "      <td>Did Not Play</td>\n",
       "      <td>...</td>\n",
       "      <td>Did Not Play</td>\n",
       "      <td>Did Not Play</td>\n",
       "      <td>Did Not Play</td>\n",
       "      <td>Did Not Play</td>\n",
       "      <td>Did Not Play</td>\n",
       "      <td>Did Not Play</td>\n",
       "      <td>Did Not Play</td>\n",
       "      <td>Did Not Play</td>\n",
       "      <td>Did Not Play</td>\n",
       "      <td>Did Not Play</td>\n",
       "    </tr>\n",
       "    <tr>\n",
       "      <th>1</th>\n",
       "      <td>1</td>\n",
       "      <td>2</td>\n",
       "      <td>NaN</td>\n",
       "      <td>2023-10-27</td>\n",
       "      <td>23-354</td>\n",
       "      <td>BOS</td>\n",
       "      <td>NaN</td>\n",
       "      <td>MIA</td>\n",
       "      <td>W (+8)</td>\n",
       "      <td>Did Not Play</td>\n",
       "      <td>...</td>\n",
       "      <td>Did Not Play</td>\n",
       "      <td>Did Not Play</td>\n",
       "      <td>Did Not Play</td>\n",
       "      <td>Did Not Play</td>\n",
       "      <td>Did Not Play</td>\n",
       "      <td>Did Not Play</td>\n",
       "      <td>Did Not Play</td>\n",
       "      <td>Did Not Play</td>\n",
       "      <td>Did Not Play</td>\n",
       "      <td>Did Not Play</td>\n",
       "    </tr>\n",
       "    <tr>\n",
       "      <th>2</th>\n",
       "      <td>2</td>\n",
       "      <td>3</td>\n",
       "      <td>1</td>\n",
       "      <td>2023-10-30</td>\n",
       "      <td>23-357</td>\n",
       "      <td>BOS</td>\n",
       "      <td>@</td>\n",
       "      <td>WAS</td>\n",
       "      <td>W (+19)</td>\n",
       "      <td>0</td>\n",
       "      <td>...</td>\n",
       "      <td>0</td>\n",
       "      <td>2</td>\n",
       "      <td>1</td>\n",
       "      <td>0</td>\n",
       "      <td>0</td>\n",
       "      <td>1</td>\n",
       "      <td>1</td>\n",
       "      <td>2</td>\n",
       "      <td>1.0</td>\n",
       "      <td>-17</td>\n",
       "    </tr>\n",
       "    <tr>\n",
       "      <th>3</th>\n",
       "      <td>3</td>\n",
       "      <td>4</td>\n",
       "      <td>2</td>\n",
       "      <td>2023-11-01</td>\n",
       "      <td>23-359</td>\n",
       "      <td>BOS</td>\n",
       "      <td>NaN</td>\n",
       "      <td>IND</td>\n",
       "      <td>W (+51)</td>\n",
       "      <td>0</td>\n",
       "      <td>...</td>\n",
       "      <td>3</td>\n",
       "      <td>3</td>\n",
       "      <td>1</td>\n",
       "      <td>1</td>\n",
       "      <td>0</td>\n",
       "      <td>0</td>\n",
       "      <td>2</td>\n",
       "      <td>11</td>\n",
       "      <td>11.6</td>\n",
       "      <td>+3</td>\n",
       "    </tr>\n",
       "    <tr>\n",
       "      <th>4</th>\n",
       "      <td>4</td>\n",
       "      <td>5</td>\n",
       "      <td>NaN</td>\n",
       "      <td>2023-11-04</td>\n",
       "      <td>23-362</td>\n",
       "      <td>BOS</td>\n",
       "      <td>@</td>\n",
       "      <td>BRK</td>\n",
       "      <td>W (+10)</td>\n",
       "      <td>Did Not Play</td>\n",
       "      <td>...</td>\n",
       "      <td>Did Not Play</td>\n",
       "      <td>Did Not Play</td>\n",
       "      <td>Did Not Play</td>\n",
       "      <td>Did Not Play</td>\n",
       "      <td>Did Not Play</td>\n",
       "      <td>Did Not Play</td>\n",
       "      <td>Did Not Play</td>\n",
       "      <td>Did Not Play</td>\n",
       "      <td>Did Not Play</td>\n",
       "      <td>Did Not Play</td>\n",
       "    </tr>\n",
       "  </tbody>\n",
       "</table>\n",
       "<p>5 rows × 31 columns</p>\n",
       "</div>"
      ],
      "text/plain": [
       "   Unnamed: 0 Rk    G        Date     Age   Tm Unnamed: 5  Opp Unnamed: 7  \\\n",
       "0           0  1  NaN  2023-10-25  23-352  BOS          @  NYK     W (+4)   \n",
       "1           1  2  NaN  2023-10-27  23-354  BOS        NaN  MIA     W (+8)   \n",
       "2           2  3    1  2023-10-30  23-357  BOS          @  WAS    W (+19)   \n",
       "3           3  4    2  2023-11-01  23-359  BOS        NaN  IND    W (+51)   \n",
       "4           4  5  NaN  2023-11-04  23-362  BOS          @  BRK    W (+10)   \n",
       "\n",
       "             GS  ...           DRB           TRB           AST           STL  \\\n",
       "0  Did Not Play  ...  Did Not Play  Did Not Play  Did Not Play  Did Not Play   \n",
       "1  Did Not Play  ...  Did Not Play  Did Not Play  Did Not Play  Did Not Play   \n",
       "2             0  ...             0             2             1             0   \n",
       "3             0  ...             3             3             1             1   \n",
       "4  Did Not Play  ...  Did Not Play  Did Not Play  Did Not Play  Did Not Play   \n",
       "\n",
       "            BLK           TOV            PF           PTS          GmSc  \\\n",
       "0  Did Not Play  Did Not Play  Did Not Play  Did Not Play  Did Not Play   \n",
       "1  Did Not Play  Did Not Play  Did Not Play  Did Not Play  Did Not Play   \n",
       "2             0             1             1             2           1.0   \n",
       "3             0             0             2            11          11.6   \n",
       "4  Did Not Play  Did Not Play  Did Not Play  Did Not Play  Did Not Play   \n",
       "\n",
       "            +/-  \n",
       "0  Did Not Play  \n",
       "1  Did Not Play  \n",
       "2           -17  \n",
       "3            +3  \n",
       "4  Did Not Play  \n",
       "\n",
       "[5 rows x 31 columns]"
      ]
     },
     "execution_count": 6,
     "metadata": {},
     "output_type": "execute_result"
    }
   ],
   "source": [
    "# print the first 5 rows\n",
    "df.head()"
   ]
  },
  {
   "cell_type": "code",
   "execution_count": 7,
   "metadata": {},
   "outputs": [
    {
     "name": "stdout",
     "output_type": "stream",
     "text": [
      "<class 'pandas.core.frame.DataFrame'>\n",
      "RangeIndex: 1610 entries, 0 to 1609\n",
      "Data columns (total 31 columns):\n",
      " #   Column      Non-Null Count  Dtype \n",
      "---  ------      --------------  ----- \n",
      " 0   Unnamed: 0  1610 non-null   int64 \n",
      " 1   Rk          1610 non-null   object\n",
      " 2   G           1045 non-null   object\n",
      " 3   Date        1610 non-null   object\n",
      " 4   Age         1610 non-null   object\n",
      " 5   Tm          1610 non-null   object\n",
      " 6   Unnamed: 5  764 non-null    object\n",
      " 7   Opp         1610 non-null   object\n",
      " 8   Unnamed: 7  1536 non-null   object\n",
      " 9   GS          1610 non-null   object\n",
      " 10  MP          1610 non-null   object\n",
      " 11  FG          1610 non-null   object\n",
      " 12  FGA         1610 non-null   object\n",
      " 13  FG%         1549 non-null   object\n",
      " 14  3P          1610 non-null   object\n",
      " 15  3PA         1610 non-null   object\n",
      " 16  3P%         1412 non-null   object\n",
      " 17  FT          1610 non-null   object\n",
      " 18  FTA         1610 non-null   object\n",
      " 19  FT%         1105 non-null   object\n",
      " 20  ORB         1610 non-null   object\n",
      " 21  DRB         1610 non-null   object\n",
      " 22  TRB         1610 non-null   object\n",
      " 23  AST         1610 non-null   object\n",
      " 24  STL         1610 non-null   object\n",
      " 25  BLK         1610 non-null   object\n",
      " 26  TOV         1610 non-null   object\n",
      " 27  PF          1610 non-null   object\n",
      " 28  PTS         1610 non-null   object\n",
      " 29  GmSc        1610 non-null   object\n",
      " 30  +/-         1610 non-null   object\n",
      "dtypes: int64(1), object(30)\n",
      "memory usage: 390.1+ KB\n"
     ]
    }
   ],
   "source": [
    "# print the datatypes of each column\n",
    "df.info()"
   ]
  },
  {
   "cell_type": "code",
   "execution_count": 8,
   "metadata": {},
   "outputs": [
    {
     "data": {
      "text/plain": [
       "Unnamed: 0      0\n",
       "Rk              0\n",
       "G             565\n",
       "Date            0\n",
       "Age             0\n",
       "Tm              0\n",
       "Unnamed: 5    846\n",
       "Opp             0\n",
       "Unnamed: 7     74\n",
       "GS              0\n",
       "MP              0\n",
       "FG              0\n",
       "FGA             0\n",
       "FG%            61\n",
       "3P              0\n",
       "3PA             0\n",
       "3P%           198\n",
       "FT              0\n",
       "FTA             0\n",
       "FT%           505\n",
       "ORB             0\n",
       "DRB             0\n",
       "TRB             0\n",
       "AST             0\n",
       "STL             0\n",
       "BLK             0\n",
       "TOV             0\n",
       "PF              0\n",
       "PTS             0\n",
       "GmSc            0\n",
       "+/-             0\n",
       "dtype: int64"
      ]
     },
     "execution_count": 8,
     "metadata": {},
     "output_type": "execute_result"
    }
   ],
   "source": [
    "# check for missing values\n",
    "df.isnull().sum()"
   ]
  },
  {
   "cell_type": "markdown",
   "metadata": {},
   "source": [
    "# Data Cleaning"
   ]
  },
  {
   "cell_type": "markdown",
   "metadata": {},
   "source": [
    "#### Exploring Null Values"
   ]
  },
  {
   "cell_type": "code",
   "execution_count": 12,
   "metadata": {},
   "outputs": [
    {
     "data": {
      "text/plain": [
       "NaN    846\n",
       "@      764\n",
       "Name: Unnamed: 5, dtype: int64"
      ]
     },
     "execution_count": 12,
     "metadata": {},
     "output_type": "execute_result"
    }
   ],
   "source": [
    "# printing values, including null, for 'Unnamed: 5'\n",
    "df['Unnamed: 5'].value_counts(dropna=False)"
   ]
  },
  {
   "cell_type": "code",
   "execution_count": 13,
   "metadata": {},
   "outputs": [
    {
     "data": {
      "text/plain": [
       "W (+10)    103\n",
       "W (+17)     86\n",
       "NaN         74\n",
       "W (+9)      71\n",
       "W (+4)      55\n",
       "          ... \n",
       "L (-39)      1\n",
       "L (-60)      1\n",
       "L (-14)      1\n",
       "L (-18)      1\n",
       "L (-40)      1\n",
       "Name: Unnamed: 7, Length: 76, dtype: int64"
      ]
     },
     "execution_count": 13,
     "metadata": {},
     "output_type": "execute_result"
    }
   ],
   "source": [
    "# printing values, including null, for 'Unnamed: 7'\n",
    "df['Unnamed: 7'].value_counts(dropna=False)"
   ]
  },
  {
   "cell_type": "code",
   "execution_count": 14,
   "metadata": {},
   "outputs": [
    {
     "data": {
      "text/plain": [
       "Inactive        345\n",
       "Did Not Play    203\n",
       ".500            117\n",
       "FG%              74\n",
       ".000             70\n",
       "               ... \n",
       ".182              1\n",
       ".091              1\n",
       ".654              1\n",
       ".370              1\n",
       ".615              1\n",
       "Name: FG%, Length: 114, dtype: int64"
      ]
     },
     "execution_count": 14,
     "metadata": {},
     "output_type": "execute_result"
    }
   ],
   "source": [
    "# printing values, including null, for 'FG%'\n",
    "df['FG%'].value_counts(dropna=False)"
   ]
  },
  {
   "cell_type": "code",
   "execution_count": 15,
   "metadata": {},
   "outputs": [
    {
     "data": {
      "text/plain": [
       "Inactive         345\n",
       "Did Not Play     203\n",
       "NaN              198\n",
       ".000             171\n",
       ".500             122\n",
       "3P%               74\n",
       ".333              74\n",
       "1.000             54\n",
       ".250              44\n",
       ".400              34\n",
       ".667              33\n",
       ".200              32\n",
       ".600              29\n",
       ".750              17\n",
       ".286              16\n",
       "Did Not Dress     15\n",
       ".167              14\n",
       ".222              13\n",
       ".429              12\n",
       ".375              12\n",
       ".143              10\n",
       ".556              10\n",
       ".444               8\n",
       ".300               7\n",
       ".625               6\n",
       ".364               5\n",
       ".571               5\n",
       ".800               4\n",
       ".833               4\n",
       ".125               3\n",
       ".182               3\n",
       ".545               3\n",
       ".455               3\n",
       ".417               3\n",
       ".714               3\n",
       ".615               2\n",
       ".273               2\n",
       "Not With Team      2\n",
       ".857               2\n",
       ".636               2\n",
       ".111               2\n",
       ".308               1\n",
       ".077               1\n",
       ".875               1\n",
       ".769               1\n",
       ".091               1\n",
       ".467               1\n",
       ".385               1\n",
       ".154               1\n",
       ".389               1\n",
       "Name: 3P%, dtype: int64"
      ]
     },
     "execution_count": 15,
     "metadata": {},
     "output_type": "execute_result"
    }
   ],
   "source": [
    "# printing values, including null, for '3P%'\n",
    "df['3P%'].value_counts(dropna=False)"
   ]
  },
  {
   "cell_type": "code",
   "execution_count": 16,
   "metadata": {},
   "outputs": [
    {
     "data": {
      "text/plain": [
       "NaN              505\n",
       "Inactive         345\n",
       "1.000            223\n",
       "Did Not Play     203\n",
       "FT%               74\n",
       ".500              66\n",
       ".750              39\n",
       ".000              23\n",
       ".667              23\n",
       "Did Not Dress     15\n",
       ".833              12\n",
       ".800              11\n",
       ".875               9\n",
       ".600               8\n",
       ".571               6\n",
       ".889               6\n",
       ".778               6\n",
       ".333               5\n",
       ".900               5\n",
       ".857               4\n",
       ".250               3\n",
       ".700               3\n",
       "Not With Team      2\n",
       ".929               2\n",
       ".923               2\n",
       ".625               2\n",
       ".714               2\n",
       ".400               1\n",
       ".789               1\n",
       ".909               1\n",
       ".818               1\n",
       ".846               1\n",
       ".429               1\n",
       "Name: FT%, dtype: int64"
      ]
     },
     "execution_count": 16,
     "metadata": {},
     "output_type": "execute_result"
    }
   ],
   "source": [
    "# printing values, including null, for 'FT%'\n",
    "df['FT%'].value_counts(dropna=False)"
   ]
  },
  {
   "cell_type": "code",
   "execution_count": 17,
   "metadata": {},
   "outputs": [
    {
     "ename": "KeyError",
     "evalue": "\"['2023-10-25', '2023-10-27', '2023-10-30', '2023-11-01', '2023-11-04', '2023-11-06', '2023-11-08', '2023-11-10', '2023-11-11', '2023-11-13', '2023-11-15', '2023-11-17', '2023-11-19', '2023-11-20', '2023-11-22', '2023-11-24', '2023-11-26', '2023-11-28', '2023-12-01', '2023-12-04', '2023-12-08', '2023-12-12', '2023-12-14', '2023-12-15', '2023-12-17', '2023-12-19', '2023-12-20', '2023-12-23', '2023-12-25', '2023-12-28', '2023-12-29', '2023-12-31', '2024-01-02', '2024-01-05', '2024-01-06', '2024-01-08', '2024-01-10', '2024-01-11', '2024-01-13', '2024-01-15', '2024-01-17', '2024-01-19', '2024-01-21', '2024-01-22', '2024-01-25', '2024-01-27', '2024-01-29', '2024-01-30', '2024-02-01', '2024-02-04', '2024-02-07', '2024-02-08', '2024-02-10', '2024-02-13', '2024-02-15', '2024-02-23', '2024-02-25', '2024-02-27', '2024-03-01', '2024-03-02', '2024-03-04', '2024-03-06', '2024-03-08', '2024-03-09', '2024-03-11', '2024-03-13', '2024-03-14', '2024-03-16', '2024-03-18', '2024-03-20', '2024-03-22', '2024-03-23', '2024-03-25', '2024-03-27', '2024-03-29', '2024-04-01', '2024-04-03', '2024-04-05', '2024-04-07', '2024-04-09', '2024-04-11', '2024-04-12', '2024-04-14', '2024-02-09', '2024-02-11', '2024-02-14', '2024-02-22', '2024-02-24', '2024-03-03', '2024-03-05', '2024-03-07', '2024-03-12', '2024-03-17', '2024-03-28', '2024-03-30', '2023-10-26', '2023-10-28', '2023-10-29', '2023-11-02', '2023-11-12', '2023-11-14', '2023-11-21', '2023-11-25', '2023-11-27', '2023-11-29', '2023-12-06', '2023-12-11', '2023-12-13', '2023-12-16', '2023-12-18', '2023-12-22', '2023-12-27', '2023-12-30', '2024-01-12', '2024-01-16', '2024-01-20', '2024-02-03', '2024-02-05', '2024-02-12', '2024-02-26', '2024-02-28', '2024-03-10', '2024-04-06', '2024-04-10', '2023-11-03', '2023-11-05', '2023-11-18', '2023-12-02', '2023-12-21', '2023-12-26', '2024-01-03', '2024-01-07', '2024-01-09', '2024-01-18', '2024-01-24', '2024-01-26', '2024-01-28', '2024-02-02', '2024-02-06'] not in index\"",
     "output_type": "error",
     "traceback": [
      "\u001b[0;31m---------------------------------------------------------------------------\u001b[0m",
      "\u001b[0;31mKeyError\u001b[0m                                  Traceback (most recent call last)",
      "Cell \u001b[0;32mIn[17], line 1\u001b[0m\n\u001b[0;32m----> 1\u001b[0m df[df[\u001b[38;5;124m'\u001b[39m\u001b[38;5;124mDate\u001b[39m\u001b[38;5;124m'\u001b[39m]] \u001b[38;5;241m!=\u001b[39m \u001b[38;5;124m'\u001b[39m\u001b[38;5;124mDate\u001b[39m\u001b[38;5;124m'\u001b[39m\n",
      "File \u001b[0;32m~/anaconda3/lib/python3.11/site-packages/pandas/core/frame.py:3813\u001b[0m, in \u001b[0;36mDataFrame.__getitem__\u001b[0;34m(self, key)\u001b[0m\n\u001b[1;32m   3811\u001b[0m     \u001b[38;5;28;01mif\u001b[39;00m is_iterator(key):\n\u001b[1;32m   3812\u001b[0m         key \u001b[38;5;241m=\u001b[39m \u001b[38;5;28mlist\u001b[39m(key)\n\u001b[0;32m-> 3813\u001b[0m     indexer \u001b[38;5;241m=\u001b[39m \u001b[38;5;28mself\u001b[39m\u001b[38;5;241m.\u001b[39mcolumns\u001b[38;5;241m.\u001b[39m_get_indexer_strict(key, \u001b[38;5;124m\"\u001b[39m\u001b[38;5;124mcolumns\u001b[39m\u001b[38;5;124m\"\u001b[39m)[\u001b[38;5;241m1\u001b[39m]\n\u001b[1;32m   3815\u001b[0m \u001b[38;5;66;03m# take() does not accept boolean indexers\u001b[39;00m\n\u001b[1;32m   3816\u001b[0m \u001b[38;5;28;01mif\u001b[39;00m \u001b[38;5;28mgetattr\u001b[39m(indexer, \u001b[38;5;124m\"\u001b[39m\u001b[38;5;124mdtype\u001b[39m\u001b[38;5;124m\"\u001b[39m, \u001b[38;5;28;01mNone\u001b[39;00m) \u001b[38;5;241m==\u001b[39m \u001b[38;5;28mbool\u001b[39m:\n",
      "File \u001b[0;32m~/anaconda3/lib/python3.11/site-packages/pandas/core/indexes/base.py:6070\u001b[0m, in \u001b[0;36mIndex._get_indexer_strict\u001b[0;34m(self, key, axis_name)\u001b[0m\n\u001b[1;32m   6067\u001b[0m \u001b[38;5;28;01melse\u001b[39;00m:\n\u001b[1;32m   6068\u001b[0m     keyarr, indexer, new_indexer \u001b[38;5;241m=\u001b[39m \u001b[38;5;28mself\u001b[39m\u001b[38;5;241m.\u001b[39m_reindex_non_unique(keyarr)\n\u001b[0;32m-> 6070\u001b[0m \u001b[38;5;28mself\u001b[39m\u001b[38;5;241m.\u001b[39m_raise_if_missing(keyarr, indexer, axis_name)\n\u001b[1;32m   6072\u001b[0m keyarr \u001b[38;5;241m=\u001b[39m \u001b[38;5;28mself\u001b[39m\u001b[38;5;241m.\u001b[39mtake(indexer)\n\u001b[1;32m   6073\u001b[0m \u001b[38;5;28;01mif\u001b[39;00m \u001b[38;5;28misinstance\u001b[39m(key, Index):\n\u001b[1;32m   6074\u001b[0m     \u001b[38;5;66;03m# GH 42790 - Preserve name from an Index\u001b[39;00m\n",
      "File \u001b[0;32m~/anaconda3/lib/python3.11/site-packages/pandas/core/indexes/base.py:6133\u001b[0m, in \u001b[0;36mIndex._raise_if_missing\u001b[0;34m(self, key, indexer, axis_name)\u001b[0m\n\u001b[1;32m   6130\u001b[0m     \u001b[38;5;28;01mraise\u001b[39;00m \u001b[38;5;167;01mKeyError\u001b[39;00m(\u001b[38;5;124mf\u001b[39m\u001b[38;5;124m\"\u001b[39m\u001b[38;5;124mNone of [\u001b[39m\u001b[38;5;132;01m{\u001b[39;00mkey\u001b[38;5;132;01m}\u001b[39;00m\u001b[38;5;124m] are in the [\u001b[39m\u001b[38;5;132;01m{\u001b[39;00maxis_name\u001b[38;5;132;01m}\u001b[39;00m\u001b[38;5;124m]\u001b[39m\u001b[38;5;124m\"\u001b[39m)\n\u001b[1;32m   6132\u001b[0m not_found \u001b[38;5;241m=\u001b[39m \u001b[38;5;28mlist\u001b[39m(ensure_index(key)[missing_mask\u001b[38;5;241m.\u001b[39mnonzero()[\u001b[38;5;241m0\u001b[39m]]\u001b[38;5;241m.\u001b[39munique())\n\u001b[0;32m-> 6133\u001b[0m \u001b[38;5;28;01mraise\u001b[39;00m \u001b[38;5;167;01mKeyError\u001b[39;00m(\u001b[38;5;124mf\u001b[39m\u001b[38;5;124m\"\u001b[39m\u001b[38;5;132;01m{\u001b[39;00mnot_found\u001b[38;5;132;01m}\u001b[39;00m\u001b[38;5;124m not in index\u001b[39m\u001b[38;5;124m\"\u001b[39m)\n",
      "\u001b[0;31mKeyError\u001b[0m: \"['2023-10-25', '2023-10-27', '2023-10-30', '2023-11-01', '2023-11-04', '2023-11-06', '2023-11-08', '2023-11-10', '2023-11-11', '2023-11-13', '2023-11-15', '2023-11-17', '2023-11-19', '2023-11-20', '2023-11-22', '2023-11-24', '2023-11-26', '2023-11-28', '2023-12-01', '2023-12-04', '2023-12-08', '2023-12-12', '2023-12-14', '2023-12-15', '2023-12-17', '2023-12-19', '2023-12-20', '2023-12-23', '2023-12-25', '2023-12-28', '2023-12-29', '2023-12-31', '2024-01-02', '2024-01-05', '2024-01-06', '2024-01-08', '2024-01-10', '2024-01-11', '2024-01-13', '2024-01-15', '2024-01-17', '2024-01-19', '2024-01-21', '2024-01-22', '2024-01-25', '2024-01-27', '2024-01-29', '2024-01-30', '2024-02-01', '2024-02-04', '2024-02-07', '2024-02-08', '2024-02-10', '2024-02-13', '2024-02-15', '2024-02-23', '2024-02-25', '2024-02-27', '2024-03-01', '2024-03-02', '2024-03-04', '2024-03-06', '2024-03-08', '2024-03-09', '2024-03-11', '2024-03-13', '2024-03-14', '2024-03-16', '2024-03-18', '2024-03-20', '2024-03-22', '2024-03-23', '2024-03-25', '2024-03-27', '2024-03-29', '2024-04-01', '2024-04-03', '2024-04-05', '2024-04-07', '2024-04-09', '2024-04-11', '2024-04-12', '2024-04-14', '2024-02-09', '2024-02-11', '2024-02-14', '2024-02-22', '2024-02-24', '2024-03-03', '2024-03-05', '2024-03-07', '2024-03-12', '2024-03-17', '2024-03-28', '2024-03-30', '2023-10-26', '2023-10-28', '2023-10-29', '2023-11-02', '2023-11-12', '2023-11-14', '2023-11-21', '2023-11-25', '2023-11-27', '2023-11-29', '2023-12-06', '2023-12-11', '2023-12-13', '2023-12-16', '2023-12-18', '2023-12-22', '2023-12-27', '2023-12-30', '2024-01-12', '2024-01-16', '2024-01-20', '2024-02-03', '2024-02-05', '2024-02-12', '2024-02-26', '2024-02-28', '2024-03-10', '2024-04-06', '2024-04-10', '2023-11-03', '2023-11-05', '2023-11-18', '2023-12-02', '2023-12-21', '2023-12-26', '2024-01-03', '2024-01-07', '2024-01-09', '2024-01-18', '2024-01-24', '2024-01-26', '2024-01-28', '2024-02-02', '2024-02-06'] not in index\""
     ]
    }
   ],
   "source": [
    "df[df['Date']] != 'Date'"
   ]
  },
  {
   "cell_type": "code",
   "execution_count": null,
   "metadata": {},
   "outputs": [],
   "source": [
    "# rename headers\n",
    "column_titles = ['Rank',\n",
    "                 'Season Game',\n",
    "                 'Date',\n",
    "                 'Age',\n",
    "                 'Team',\n",
    "                 '@',\n",
    "                 'Opponent',\n",
    "                 'W/L Margin',\n",
    "                 'Games Started',\n",
    "                 'Field Goals',\n",
    "                 'Field Goal Attempts',\n",
    "                 'Field Goal %',\n",
    "                 '3-Point Field Goals',\n",
    "                 '3-Point Field Goal %',\n",
    "                 'Free Throws',\n",
    "                 'Free Throw Attempts',\n",
    "                 'Free Throw %',\n",
    "                 'Offensive Rebounds',\n",
    "                 'Defensive Rebounds',\n",
    "                 'Total Rebounds',\n",
    "                 'Assists',\n",
    "                 'Steals',\n",
    "                 'Blocks',\n",
    "                 'Turnovers',\n",
    "                 'Personal Fouls',\n",
    "                 'Points',\n",
    "                 'Game Score',\n",
    "                 'Plus/Minus'    \n",
    "]"
   ]
  }
 ],
 "metadata": {
  "kernelspec": {
   "display_name": "base",
   "language": "python",
   "name": "python3"
  },
  "language_info": {
   "codemirror_mode": {
    "name": "ipython",
    "version": 3
   },
   "file_extension": ".py",
   "mimetype": "text/x-python",
   "name": "python",
   "nbconvert_exporter": "python",
   "pygments_lexer": "ipython3",
   "version": "3.11.5"
  }
 },
 "nbformat": 4,
 "nbformat_minor": 2
}
