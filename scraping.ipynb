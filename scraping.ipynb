{
 "cells": [
  {
   "cell_type": "code",
   "execution_count": 1,
   "metadata": {},
   "outputs": [],
   "source": [
    "# from bs4 import BeautifulSoup\n",
    "# import requests\n",
    "\n",
    "# url = 'https://www.basketball-reference.com/players/t/tatumja01/gamelog/2024'\n",
    "\n",
    "# page = requests.get(url)\n",
    "\n",
    "# soup = BeautifulSoup(page.content, 'html.parser')"
   ]
  },
  {
   "cell_type": "code",
   "execution_count": 2,
   "metadata": {},
   "outputs": [],
   "source": [
    "# table = soup.find_all('table')[7]\n",
    "\n",
    "# column_titles = table.find_all('th')[:30]\n",
    "\n",
    "# column_table_titles = [title.text.strip() for title in column_titles]\n",
    "\n",
    "# df = pd.DataFrame(columns=column_table_titles)\n",
    "\n",
    "# column_data = table.find_all('tr')\n",
    "\n",
    "# for row in column_data:\n",
    "#     row_data = row.find_all('td')\n",
    "#     individual_row_data = [data.text.strip() for data in row_data]\n",
    "#     print(individual_row_data)\n",
    "    \n",
    "#     # length = len(df)\n",
    "#     # df.loc[length] = individual_row_data\n"
   ]
  },
  {
   "cell_type": "code",
   "execution_count": null,
   "metadata": {},
   "outputs": [],
   "source": [
    "# url = 'https://www.basketball-reference.com/players/t/tatumja01/gamelog/2024'\n",
    "\n",
    "# dfs = pd.read_html(url)\n",
    "# df = dfs[7]\n",
    "# df"
   ]
  },
  {
   "cell_type": "code",
   "execution_count": 1,
   "metadata": {},
   "outputs": [],
   "source": [
    "import pandas as pd\n",
    "from tabulate import tabulate"
   ]
  },
  {
   "cell_type": "code",
   "execution_count": 2,
   "metadata": {},
   "outputs": [],
   "source": [
    "# provide gamelog urls for every player on the 2023-2024 roster\n",
    "\n",
    "player_urls = ['https://www.basketball-reference.com/players/b/bantoda01/gamelog/2024',\n",
    "               'https://www.basketball-reference.com/players/b/brissos01/gamelog/2024',\n",
    "               'https://www.basketball-reference.com/players/b/brownja02/gamelog/2024',\n",
    "               'https://www.basketball-reference.com/players/d/davisjd01/gamelog/2024',\n",
    "               'https://www.basketball-reference.com/players/h/hausesa01/gamelog/2024',\n",
    "               'https://www.basketball-reference.com/players/h/holidjr01/gamelog/2024',\n",
    "               'https://www.basketball-reference.com/players/h/horfoal01/gamelog/2024',\n",
    "               'https://www.basketball-reference.com/players/k/kornelu01/gamelog/2024',\n",
    "               'https://www.basketball-reference.com/players/m/mykhasv01/gamelog/2024',\n",
    "               'https://www.basketball-reference.com/players/p/peterdr01/gamelog/2024',\n",
    "               'https://www.basketball-reference.com/players/p/porzikr01/gamelog/2024',\n",
    "               'https://www.basketball-reference.com/players/p/pritcpa01/gamelog/2024',\n",
    "               'https://www.basketball-reference.com/players/q/quetane01/gamelog/2024',\n",
    "               'https://www.basketball-reference.com/players/s/sprinja01/gamelog/2024',\n",
    "               'https://www.basketball-reference.com/players/s/stevela01/gamelog/2024',\n",
    "               'https://www.basketball-reference.com/players/t/tatumja01/gamelog/2024',\n",
    "               'https://www.basketball-reference.com/players/t/tillmxa01/gamelog/2024',\n",
    "               'https://www.basketball-reference.com/players/w/walshjo01/gamelog/2024',\n",
    "               'https://www.basketball-reference.com/players/w/whitede01/gamelog/2024'\n",
    "    \n",
    "]"
   ]
  },
  {
   "cell_type": "code",
   "execution_count": 3,
   "metadata": {},
   "outputs": [
    {
     "name": "stdout",
     "output_type": "stream",
     "text": [
      "      Rk    G  Date        Age     Tm    Unnamed: 5    Opp    Unnamed: 7    GS            MP            FG            FGA           FG%           3P            3PA           3P%           FT            FTA           FT%           ORB           DRB           TRB           AST           STL           BLK           TOV           PF            PTS           GmSc          +/-\n",
      "--  ----  ---  ----------  ------  ----  ------------  -----  ------------  ------------  ------------  ------------  ------------  ------------  ------------  ------------  ------------  ------------  ------------  ------------  ------------  ------------  ------------  ------------  ------------  ------------  ------------  ------------  ------------  ------------  ------------\n",
      " 0     1  nan  2023-10-25  23-352  BOS   @             NYK    W (+4)        Did Not Play  Did Not Play  Did Not Play  Did Not Play  Did Not Play  Did Not Play  Did Not Play  Did Not Play  Did Not Play  Did Not Play  Did Not Play  Did Not Play  Did Not Play  Did Not Play  Did Not Play  Did Not Play  Did Not Play  Did Not Play  Did Not Play  Did Not Play  Did Not Play  Did Not Play\n",
      " 1     2  nan  2023-10-27  23-354  BOS   nan           MIA    W (+8)        Did Not Play  Did Not Play  Did Not Play  Did Not Play  Did Not Play  Did Not Play  Did Not Play  Did Not Play  Did Not Play  Did Not Play  Did Not Play  Did Not Play  Did Not Play  Did Not Play  Did Not Play  Did Not Play  Did Not Play  Did Not Play  Did Not Play  Did Not Play  Did Not Play  Did Not Play\n",
      " 2     3    1  2023-10-30  23-357  BOS   @             WAS    W (+19)       0             9:41          1             3             .333          0             1             .000          0             0             nan           2             0             2             1             0             0             1             1             2             1.0           -17\n",
      " 3     4    2  2023-11-01  23-359  BOS   nan           IND    W (+51)       0             8:16          4             4             1.000         0             0             nan           3             3             1.000         0             3             3             1             1             0             0             2             11            11.6          +3\n",
      " 4     5  nan  2023-11-04  23-362  BOS   @             BRK    W (+10)       Did Not Play  Did Not Play  Did Not Play  Did Not Play  Did Not Play  Did Not Play  Did Not Play  Did Not Play  Did Not Play  Did Not Play  Did Not Play  Did Not Play  Did Not Play  Did Not Play  Did Not Play  Did Not Play  Did Not Play  Did Not Play  Did Not Play  Did Not Play  Did Not Play  Did Not Play\n"
     ]
    }
   ],
   "source": [
    "# create an empty list and loop through each player's gamelog table \n",
    "\n",
    "df_list = []\n",
    "\n",
    "for url in player_urls:\n",
    "    table = pd.read_html(url)\n",
    "    gamelog = table[7]\n",
    "    df_list.append(gamelog)\n",
    "\n",
    "# concatenate all gamelog tables into one df and reset index\n",
    "\n",
    "df = pd.concat(df_list)\n",
    "df = df.reset_index(drop=True)\n",
    "\n",
    "print(tabulate(df.head(), headers='keys'))"
   ]
  },
  {
   "cell_type": "code",
   "execution_count": 8,
   "metadata": {},
   "outputs": [],
   "source": [
    "# create csv file of the scraped dataframe\n",
    "\n",
    "df.to_csv('gamelogs_df.csv')"
   ]
  }
 ],
 "metadata": {
  "kernelspec": {
   "display_name": "base",
   "language": "python",
   "name": "python3"
  },
  "language_info": {
   "codemirror_mode": {
    "name": "ipython",
    "version": 3
   },
   "file_extension": ".py",
   "mimetype": "text/x-python",
   "name": "python",
   "nbconvert_exporter": "python",
   "pygments_lexer": "ipython3",
   "version": "3.11.5"
  }
 },
 "nbformat": 4,
 "nbformat_minor": 2
}
